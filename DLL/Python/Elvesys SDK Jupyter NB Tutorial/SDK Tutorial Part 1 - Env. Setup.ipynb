{
 "cells": [
  {
   "attachments": {},
   "cell_type": "markdown",
   "id": "08d8c136",
   "metadata": {},
   "source": [
    "\n",
    "<div>\n",
    "<img src=\"Figures/01_Elveflow_logo_an_elvesys_brand.jpg\" width=\"500\"/>\n",
    "</div>\n",
    "\n",
    "\n",
    "\n",
    "# Elveflow SDK Tutorial Part 1: Environment Setup\n",
    "\n",
    "The purpose of this Jupyter Notebook is to work as a quick guide to the SDK development with the Elveflow products. The process is shown using a OB1 Pressure Controller with a FS5D Flow Sensor, but it works also for any other Elvesys product.\n",
    "\n",
    "Before starting with this introduction, make sure you have read all the documentation related to your purchased products. Disregarding that information could **increase the risk of damage** to the equipment, or the risk of personal injuries. In case you don't have a copy, you can download all the documents from our [website](https://support.elveflow.com/support/home).\n",
    "\n",
    "The content of this chapter of the tutorial is the following:\n",
    "1. System setup\n",
    "2. SDK files\n",
    "3. Instrument configuration\n",
    "4. Sensor addition\n",
    "5. System calibration\n",
    "6. Main execution routine\n",
    "\n",
    "## 1.1 Installation\n",
    "### 1.1.1 Tested system\n",
    "\n",
    "This tutorial has been written and tested using Windows 10, 64bits, Python 3.8.8, Jupyter Notebook 6.3.0 in October, 2021.\n",
    "The pressure controller is an OB1 MK3+ and the flow sensor a FS5D.\n",
    "\n",
    "### 1.1.2 SDK files\n",
    "The Elveflow Software Development Kit (SDK) latest stable version can be downloaded from the Elveflow [website](https://www.elveflow.com/microfluidic-products/microfluidics-software/elveflow-software-sdk/). To alleviate bandwidth and access issues, two links for the same file are provided. You can also find the ESI in the same zip archive file.\n",
    "In case you previously installed the ESI software, a zip folder will also have been added in the same folder of ESI. Unzip it at an easily accessible path like 'C:/dev/SDK' as for now, it is necessary to hardcode some paths on the library to customize it for your own system.\n",
    "\n",
    "Then, go into: '../SDK/Python64' (at the path where you unzipped the SDK), or your eauivalent for 32bits, open the file 'Elveflow.py' with a text editor and edit the fifth line of the code to match the path of your SDK.\n",
    "\n",
    "    # This python routine load the ElveflowDLL.\n",
    "    # It defines all function prototype for use with python lib\n",
    "\n",
    "    from ctypes import *\n",
    "    ElveflowDLL=CDLL('C:/dev/SDK/DLL64/DLL64/Elveflow64.dll')# <- change this path\n",
    "\n",
    "Now, change the paths of the following code cell to match the one of yours and run it. If everything is fine, it should not print any message on the screen."
   ]
  },
  {
   "cell_type": "code",
   "execution_count": 1,
   "id": "9cf173a0",
   "metadata": {},
   "outputs": [],
   "source": [
    "\n",
    "\n",
    "# tested with Python 3.5.1 and 3.8.8 (IDE Eclipse V4.5.2 + Pydev V5.0.0)\n",
    "# add python_xx and python_xx/DLL to the project path\n",
    "# coding: utf8\n",
    "\n",
    "import sys\n",
    "from email.header import UTF8\n",
    "\n",
    "sys.path.append('C:/dev/SDK/DLL64/DLL64')#add the path of the library here\n",
    "sys.path.append('C:/dev/SDK/Python_64')#add the path of the LoadElveflow.py\n",
    "\n",
    "from ctypes import *\n",
    "\n",
    "from array import array\n",
    "from Elveflow64 import *\n"
   ]
  },
  {
   "cell_type": "markdown",
   "id": "6f0ac5e5",
   "metadata": {},
   "source": [
    "**Did you get some outputs?** Maybe something is wrong.\n",
    "\n",
    "In some computers with 64bits, it is necessary to install some additional libraries. To do it, just go again into your SDK folder, find the path '../SDK/Installx64/Extra Install For x64 Libraries' and run the setup application that you will find inside. Then, try to launch again the previous code cell."
   ]
  },
  {
   "attachments": {},
   "cell_type": "markdown",
   "id": "30596569",
   "metadata": {},
   "source": [
    "## 1.2 System Test\n",
    "### 1.2.1 Instrument configuration\n",
    "Once the SDK has been correctly installed, it is also necessary to configure it to work with the desired system. If you previously installed the ESI, an application called NI MAX should have been installed as well. It is needed to check the exact name of the device.\n",
    "\n",
    "How? First, connect your device to the power supply, connect its USB cable to the computer you are using and turn it on. After that, go to Windows search bar and type 'NI MAX' without the quotes. It should appear as the first result as you can see in the following figure:\n",
    "\n",
    "<div>\n",
    "<img src=\"Figures/nimax.PNG\" width=\"500\"/>\n",
    "</div>"
   ]
  },
  {
   "attachments": {},
   "cell_type": "markdown",
   "id": "9637ffbe",
   "metadata": {},
   "source": [
    "Then, just unzip the left tabs: 'My System > Devices and Interfaces > ...' like you can see as follows.\n",
    "\n",
    "<div>\n",
    "<img src=\"Figures/nimax2.PNG\" width=\"700\"/>\n",
    "</div>\n",
    "\n",
    "\n",
    "If you don't have more National Instrument's devices connected to your computer, the only result should be the OB1 Pressure Controller (or the one that you try to configure). Click on it and write down its Serial Number. You will need it for your custom software to interact with the device. In this example, the device Serial Number is 01BECD3F.\n",
    "\n",
    "The next step is to know the arrangement of pressure regulators that your system has, because our OB1 can be customized to have the right pressure setup for the client. In order to identify them, you can check it on the OB1 User guide, at the installation chapter.\n",
    "\n",
    "Each regulator value has a different encoding value. The correspondance is the following:\n",
    "\n",
    "| Regulator type (by range) | Code |\n",
    "| --- | --- |\n",
    "| Non-installed | 0 |\n",
    "| (0, 200) mbar | 1 |\n",
    "| (0, 2000) mbar | 2 |\n",
    "| (0, 8000) mbar | 3 |\n",
    "| (-1000, 1000) mbar | 4 |\n",
    "| (-1000, 6000) mbar | 5 |\n",
    "\n",
    "At max, the OB1 controller will have four pressure outputs, thus, in the OB1_Initialization() call of the following code cell, after the serial number, you must specify the regulator type of every channel, setting a zero if a channel is not physically installed. In the following code, only two pressure outputs are installed with regulators of type 3 and 2 respectively."
   ]
  },
  {
   "cell_type": "code",
   "execution_count": 2,
   "id": "8163036d",
   "metadata": {},
   "outputs": [
    {
     "name": "stdout",
     "output_type": "stream",
     "text": [
      "Instrument name and regulator types are hardcoded in the Python script\n",
      "error:0\n",
      "OB1 ID: 0\n"
     ]
    }
   ],
   "source": [
    "#\n",
    "# Initialization of OB1 ( ! ! ! REMEMBER TO USE .encode('ascii') ! ! ! )\n",
    "#\n",
    "Instr_ID = c_int32()\n",
    "print(\"Instrument name and regulator types are hardcoded in the Python script\")\n",
    "\n",
    "# See User Guide to determine regulator types and NIMAX to determine the instrument name \n",
    "# error = OB1_Initialization('01BECD3F'.encode('ascii'),3,2,0,0,byref(Instr_ID)) \n",
    "error = OB1_Initialization('01CF6A61'.encode('ascii'),2,3,4,4,byref(Instr_ID)) \n",
    "\n",
    "# All functions will return error codes to help you to debug your code, for further information refer to User Guide\n",
    "print('error:%d' % error)\n",
    "print(\"OB1 ID: %d\" % Instr_ID.value)"
   ]
  },
  {
   "cell_type": "markdown",
   "id": "ea401bfb",
   "metadata": {},
   "source": [
    "If everything went fine, you should have received a simple message as follows:\n",
    "\n",
    "    Instrument name and regulator types are hardcoded in the Python script\n",
    "    error:0\n",
    "    OB1 ID: 0\n",
    "\n",
    "If it is not the case, one or several of the following issues can be happening:\n",
    "1. The OB1 is not connected to the power supply or to the computer through the USB wire.\n",
    "2. The OB1 is not on. The screen should emit blue light.\n",
    "3. The Serial Number of the device was not correctly written.\n",
    "4. There are several instances trying to reach the OB1. Close any ESI window running and be sure of using only one Jupyter Notebook instance (of OB1 interfacing code) at time.\n",
    "5. The computer must be restart after the installation of the extra libraries.\n",
    "6. The USB wire may need to be unplugged and plugged or changed to another USB port. "
   ]
  },
  {
   "cell_type": "markdown",
   "id": "c5182089",
   "metadata": {},
   "source": [
    "### 1.1.3 Sensor addition\n",
    "Once the OB1 has been fully configured, the sensor, or sensors, must be added so they can be read later. To do it, the function: \"OB1_Add_Sens()\" must be called.\n",
    "\n",
    "The arguments for the function are:\n",
    "- The OB1 ID obtained at its initialization.\n",
    "- Channel to which the sensor is attached.\n",
    "- Sensor type (see below).\n",
    "- Digital (1) or Analog (0) communication.\n",
    "- Calibration: IPA (1) or H20 (0).\n",
    "- Resolution bits (see below).\n",
    "- Voltage for custom analog sensors, from 5 to 25V.\n",
    "\n",
    "To know the sensor type you can use this table which can be also found at the end of the SDK guide:\n",
    "\n",
    "| Sensor type | Code | Sensor type | Code |\n",
    "| --- | --- |--- | --- |\n",
    "| None | 0 | Press 340 mbar | 8 |\n",
    "| Flow 1-5 muL/min | 1 | Press 1 bar | 9 |\n",
    "| Flow 7 muL/min | 2 | Press 2 bar | 10 |\n",
    "| Flow 50 muL/min | 3 | Press 7 bar | 11 |\n",
    "| Flow 80 muL/min | 4 | Press 16 bar | 12 |\n",
    "| Flow 1000 muL/min | 5 | Level | 13 |\n",
    "| Flow 5000 muL/min | 6 | Custom | 14 |\n",
    "| Press 70 mbar | 7 |   |   |\n",
    "\n",
    "**Note.** *Level* sensor type stands for all types of level sensor such as bubble detector.\n",
    "\n",
    "The following is the encoding of the possible resolution bits:\n",
    "\n",
    "| Resolution | Code | Resolution | Code |\n",
    "| --- | --- |--- | --- |\n",
    "| 9 bits | 0 | 13 bits | 4 |\n",
    "| 10 bits | 1 | 14 bits | 5 |\n",
    "| 11 bits | 2 | 15 bits | 6 |\n",
    "| 12 bits | 3 | 16 bits | 7 |"
   ]
  },
  {
   "cell_type": "code",
   "execution_count": 3,
   "id": "6a8b2081",
   "metadata": {},
   "outputs": [
    {
     "name": "stdout",
     "output_type": "stream",
     "text": [
      "error add digit flow sensor:0\n"
     ]
    }
   ],
   "source": [
    "# Add one digital flow sensor with water calibration (OB1 MK3+ only), all information to declare sensors are described in the User Guide\n",
    "# error = OB1_Add_Sens(Instr_ID, 2, 4, 1, 0, 7, 0)\n",
    "# (CustomSens_Voltage_5_to_25 only works with CustomSensors and OB1 from 2020 and after)\n",
    "\n",
    "# To test the pressure sensors\n",
    "error=OB1_Add_Sens(Instr_ID, 1, 10, 0, 0, 7, 0)\n",
    "error=OB1_Add_Sens(Instr_ID, 2, 10, 0, 0, 7, 0)\n",
    "error=OB1_Add_Sens(Instr_ID, 3, 10, 0, 0, 7, 0)\n",
    "print('error add digit flow sensor:%d' % error)"
   ]
  },
  {
   "cell_type": "markdown",
   "id": "9d59605c",
   "metadata": {},
   "source": [
    "## 1.1.4 System calibration\n",
    "Here you can choose, essentially, one of the three available options: default, load and new. The calibration consists of an array which stores the actual values associated to your instrument.\n",
    "\n",
    "If you previously proceeded with a calibration process, you can load it from the Calib_path that you must previously specify. Otherwise, if you want to run a calibration process, ensure that **ALL** channels are properly closed with adequate caps. You can find more detailed instructions about the calibration procedure at the OB1 User Guide."
   ]
  },
  {
   "cell_type": "code",
   "execution_count": 4,
   "id": "b3197f9f",
   "metadata": {},
   "outputs": [
    {
     "name": "stdout",
     "output_type": "stream",
     "text": [
      "select calibration type (default, load, new ) : default\n"
     ]
    }
   ],
   "source": [
    "Calib = (c_double*1000)() # Always define array this way, calibration should have 1000 elements\n",
    "\n",
    "while True:\n",
    "    answer = input('select calibration type (default, load, new ) : ')\n",
    "    Calib_path = 'C:\\\\Users\\\\Public\\\\Desktop\\\\Calibration\\\\Calib.txt'\n",
    "    if answer == 'default':\n",
    "        error = Elveflow_Calibration_Default (byref(Calib),1000)\n",
    "        break\n",
    "        \n",
    "    if answer == 'load':\n",
    "        error = Elveflow_Calibration_Load (Calib_path.encode('ascii'), byref(Calib), 1000)\n",
    "        break\n",
    "        \n",
    "    if answer == 'new':\n",
    "        OB1_Calib (Instr_ID.value, Calib, 1000)\n",
    "        error = Elveflow_Calibration_Save(Calib_path.encode('ascii'), byref(Calib), 1000)\n",
    "        print('Calib saved in %s' % Calib_path.encode('ascii'))\n",
    "        break"
   ]
  },
  {
   "cell_type": "markdown",
   "id": "323a0ef8",
   "metadata": {},
   "source": [
    "The expected output would be something like:\n",
    "\n",
    "    select calibration type (default, load, new ) : default\n",
    "\n",
    "And nothing else."
   ]
  },
  {
   "cell_type": "markdown",
   "id": "cda8e059",
   "metadata": {},
   "source": [
    "## 1.1.5 Main execution rutine\n",
    "\n",
    "Once that your system is configured and running, you can run the following main routine with which you will be able to basically control the instrument's pressure output as well as to read the pressure and flow signal if desired.\n",
    "\n",
    "You can see a summary of the commands of the example at the following table:\n",
    "\n",
    "| Command | Function | Description |\n",
    "| --- | --- | --- |\n",
    "| set_p | OB1_Set_Press()  | Manually set a pressure at a desired channel. |\n",
    "| get_p | OB1_Get_Press() | Manually get the pressure reading from a desired channnel. |\n",
    "| get_sens | OB1_Get_Sens_Data() | Manually get the value of any sensor. |\n",
    "| exit | None | Exit the main loop. |\n",
    "\n",
    "**Note.** If you need to check the usage of one function from our SDK, you can find the API reference at the SDK User Guide at any moment."
   ]
  },
  {
   "cell_type": "code",
   "execution_count": 5,
   "id": "1fc0c6e6",
   "metadata": {},
   "outputs": [
    {
     "name": "stdout",
     "output_type": "stream",
     "text": [
      "what to do (set_p, get_p, get_sens, or exit) : set_p\n",
      "select channel(1-4) : 1\n",
      "select pressure (-1000 to 8000 mbars) : 300\n",
      "error : 0\n",
      "what to do (set_p, get_p, get_sens, or exit) : get_sens\n",
      "select channel(1-4) : 2\n",
      "Press or Flow ch 2 :  123.98571679255377\n",
      "error : 0\n",
      "what to do (set_p, get_p, get_sens, or exit) : get_sens\n",
      "select channel(1-4) : 1\n",
      "Press or Flow ch 1 :  255.49368963149433\n",
      "error : 0\n",
      "what to do (set_p, get_p, get_sens, or exit) : get_sens\n",
      "select channel(1-4) : 3\n",
      "Press or Flow ch 3 :  -24.7761020828564\n",
      "error : 0\n",
      "what to do (set_p, get_p, get_sens, or exit) : set_p\n",
      "select channel(1-4) : 1\n",
      "select pressure (-1000 to 8000 mbars) : 0\n",
      "error : 0\n",
      "what to do (set_p, get_p, get_sens, or exit) : exit\n",
      "error : 0\n"
     ]
    }
   ],
   "source": [
    "while True:\n",
    "    answer=input('what to do (set_p, get_p, get_sens, or exit) : ')\n",
    "    if answer=='set_p':\n",
    "        set_channel=input(\"select channel(1-4) : \")\n",
    "        set_channel=int(set_channel) # convert to int\n",
    "        set_channel=c_int32(set_channel) # convert to c_int32\n",
    "        set_pressure=input(\"select pressure (-1000 to 8000 mbars) : \")\n",
    "        set_pressure=float(set_pressure) \n",
    "        set_pressure=c_double(set_pressure) # convert to c_double\n",
    "        error=OB1_Set_Press(Instr_ID.value, set_channel, set_pressure, byref(Calib),1000) \n",
    "        \n",
    "    if answer==\"get_sens\":\n",
    "        data_sens=c_double()\n",
    "        set_channel=input(\"select channel(1-4) : \")\n",
    "        set_channel=int(set_channel) # convert to int\n",
    "        set_channel=c_int32(set_channel) # convert to c_int32\n",
    "        error=OB1_Get_Sens_Data(Instr_ID.value,set_channel, 1,byref(data_sens)) # Acquire_data=1 -> read all the analog values\n",
    "        print('Press or Flow ch', set_channel.value,': ',data_sens.value)\n",
    "    \n",
    "    if answer=='get_p':\n",
    "        set_channel=input(\"select channel(1-4) : \")\n",
    "        set_channel=c_int32( int(set_channel) ) # convert to c_int32\n",
    "        get_pressure=c_double()\n",
    "        error=OB1_Get_Press(Instr_ID.value, set_channel, 1, byref(Calib),byref(get_pressure), 1000) # Acquire_data=1 -> read all the analog values\n",
    "        print('error: ', error)\n",
    "        print('ch',set_channel,': ',get_pressure.value)\n",
    "\n",
    "    print( 'error :', error)\n",
    "    \n",
    "    if answer=='exit':\n",
    "        break"
   ]
  },
  {
   "cell_type": "markdown",
   "id": "f6992f07",
   "metadata": {},
   "source": [
    "The output can be something like the following:\n",
    "\n",
    "    what to do (set_p, get_p, get_sens, or exit) : get_sens\n",
    "    select channel(1-4) : 2\n",
    "    Press or Flow ch 2 :  4.724137931034483\n",
    "    what to do (set_p, get_p, get_sens, or exit) : exit\n",
    "    error : 0\n",
    "\n",
    "Here it finishes the first part of the tutorial. Go for the second part to know how to perform automatic control with our instruments."
   ]
  },
  {
   "cell_type": "code",
   "execution_count": null,
   "id": "81239be8",
   "metadata": {},
   "outputs": [],
   "source": []
  }
 ],
 "metadata": {
  "celltoolbar": "Éditer les Méta-Données",
  "kernelspec": {
   "display_name": "Python 3 (ipykernel)",
   "language": "python",
   "name": "python3"
  },
  "language_info": {
   "codemirror_mode": {
    "name": "ipython",
    "version": 3
   },
   "file_extension": ".py",
   "mimetype": "text/x-python",
   "name": "python",
   "nbconvert_exporter": "python",
   "pygments_lexer": "ipython3",
   "version": "3.10.0"
  }
 },
 "nbformat": 4,
 "nbformat_minor": 5
}

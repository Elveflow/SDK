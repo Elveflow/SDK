{
 "cells": [
  {
   "attachments": {},
   "cell_type": "markdown",
   "id": "d0a6c6d7",
   "metadata": {},
   "source": [
    "\n",
    "<div>\n",
    "<img src=\"Figures/01_Elveflow_logo_an_elvesys_brand.jpg\" width=\"500\"/>\n",
    "</div>\n",
    "\n",
    "\n",
    "# Elveflow SDK Tutorial Part 2: Automatic Control\n",
    "\n",
    "In this second part of the tutorial, the basic process for setting up an automatic control is shown, manually first and with our tools after. It is assumed that you are familiarized with all the basic operating of your system and that you have correctly set up the SDK environment as it was shown in the first chapter of the tutorial. If you didn't see it before, please, go for it first.\n",
    "\n",
    "The purpose of this Jupyter Notebook is to work as a quick guide to the SDK development with the Elveflow products. The process shown using a OB1 Pressure Controller with a FS5D Flow Sensor, but it works also for any other Elvesys product.\n",
    "\n",
    "Also, before starting with this introduction, make sure you have read all the documentation related to your purchased products. Disregarding that information could **increase the risk of damage** to the equipment, or the risk of personal injuries. In case you don't have a copy, you can download all the documents from our [website](https://support.elveflow.com/support/home).\n",
    "\n",
    "The content of this chapter of the tutorial is the following:\n",
    "1. PI Controller\n",
    "    - PI basics\n",
    "    - PI software\n",
    "    - Parameters tuning\n",
    "2. SDK Remote PID Control\n",
    "\n",
    "This tutorial has been written and tested using Windows 10, 64bits, Python 3.8.8, Jupyter Notebook 6.3.0 in October, 2021. The pressure controller is an OB1 MK3+ and the flow sensor a FS5D.\n",
    "\n",
    "## 2.1 PI Controller\n",
    "\n",
    "### 2.1.1 PI basics\n",
    "The PI Controller or Proportional-Integrative Controller is a basic linear controller, yet powerful for lot of situations, which makes the output of the controlled system to follow a desired curve of values, called reference, and ensures that the system properly works and that it is stable for the operating expected situation.\n",
    "\n",
    "To achieve this control of the system's output, it takes the current system's output value, calculates the difference to the reference (the desired output), which is called **error**, and makes some operations with it.\n",
    "\n",
    "The operations for a basic PI Control are two: the proportional term calculus and the integrative term calculus. \n",
    "- The proportional term corresponds to the **current** error multiplied by a proportional gain. The larger this gain is, the more aggressive the control will react. For an instant *k*:\n",
    "$$ P_{term} = K_{p}  (y_{k}-y_{k,ref})$$\n",
    "- The integrative term corresponds to the **accumulated** error multiplied by an integrative gain. The larger this gain is, the faster the control will react to the changes between the real output and the desired one. For an instant *k*:\n",
    "$$ I_{term} = K_{i}  \\sum \\limits _{k=0} ^{k} {(y_{k}-y_{k,ref})}$$\n",
    "\n",
    "**Note.** Usually, the integrative gain is expressed as integrative time which is related to the integrative gain through the sampling period of the controlling system, but it is shown here this way as may be considered more understandable with gains.\n",
    "\n",
    "### 2.1.2 PI software\n",
    "\n",
    "The PI code is only a translation of the previous equations to the Python language:\n",
    "\n",
    "    error = p_sens - p_ref\n",
    "    i_error += error\n",
    "    \n",
    "    P_val = K_P * error\n",
    "    I_val = K_I * i_error\n",
    "    p_control = P_val + I_val\n",
    "\n",
    "In the next code cell you can run the initialization of the system. After it, you will find the place where you can put your controller code inside the main execution routine that was shown in the previous chapter of this tutorial.\n",
    "\n",
    "**Before running the following code**, change all the paths, OB1 values and sensor values to match your system.\n"
   ]
  },
  {
   "cell_type": "code",
   "execution_count": 3,
   "id": "82830116",
   "metadata": {},
   "outputs": [
    {
     "name": "stdout",
     "output_type": "stream",
     "text": [
      "Instrument name and regulator types are hardcoded in the Python script\n",
      "error:-301706\n",
      "OB1 ID: -1\n",
      "error add digit flow sensor:-8003\n",
      "Select calibration type (default, load, new ) : default\n",
      "Done.\n"
     ]
    }
   ],
   "source": [
    "# INITIALIZATION\n",
    "\n",
    "# Tested with Python 3.5.1 (IDE Eclipse V4.5.2 + Pydev V5.0.0)\n",
    "# Add python_xx and python_xx/DLL to the project path\n",
    "# coding: utf8\n",
    "\n",
    "import sys\n",
    "from email.header import UTF8\n",
    "\n",
    "sys.path.append('C:/dev/SDK/DLL64/DLL64') # Add the path of the library here\n",
    "sys.path.append('C:/dev/SDK/Python_64') # Add the path of the LoadElveflow.py\n",
    "\n",
    "from ctypes import *\n",
    "\n",
    "from array import array\n",
    "from Elveflow64 import *\n",
    "\n",
    "import time\n",
    "import matplotlib.pyplot as plt\n",
    "\n",
    "#\n",
    "# Initialization of OB1 ( ! ! ! REMEMBER TO USE .encode('ascii') ! ! ! )\n",
    "#\n",
    "Instr_ID=c_int32()\n",
    "print(\"Instrument name and regulator types are hardcoded in the Python script\")\n",
    "\n",
    "# See User Guide to determine regulator types and NIMAX to determine the instrument name \n",
    "error=OB1_Initialization('01BECD3F'.encode('ascii'),3,2,0,0,byref(Instr_ID)) \n",
    "\n",
    "# All functions will return error codes to help you to debug your code, for further information refer to User Guide\n",
    "print('error:%d' % error)\n",
    "print(\"OB1 ID: %d\" % Instr_ID.value)\n",
    "\n",
    "# Add one digital flow sensor with water calibration (OB1 MK3+ only), all information to declare sensors \n",
    "# are described in the User Guide\n",
    "error=OB1_Add_Sens(Instr_ID, 2, 4, 1, 0, 7, 0)\n",
    "# (CustomSens_Voltage_5_to_25 only works with CustomSensors and OB1 from 2020 and after)\n",
    "print('error add digit flow sensor:%d' % error)\n",
    "\n",
    "Calib=(c_double*1000)() # Always define array this way, calibration should have 1000 elements\n",
    "\n",
    "while True:\n",
    "    answer=input('Select calibration type (default, load, new ) : ')\n",
    "    Calib_path='C:\\\\Users\\\\Public\\\\Desktop\\\\Calibration\\\\Calib.txt'\n",
    "    if answer=='default':\n",
    "        error=Elveflow_Calibration_Default (byref(Calib),1000)\n",
    "        break\n",
    "    if answer=='load':\n",
    "        error=Elveflow_Calibration_Load (Calib_path.encode('ascii'), byref(Calib), 1000)\n",
    "        break\n",
    "        \n",
    "    if answer=='new':\n",
    "        OB1_Calib (Instr_ID.value, Calib, 1000)\n",
    "        error=Elveflow_Calibration_Save(Calib_path.encode('ascii'), byref(Calib), 1000)\n",
    "        print ('calib saved in %s' % Calib_path.encode('ascii'))\n",
    "        break\n",
    "    else:\n",
    "        print(\"Not recognized command.\")\n",
    "\n",
    "if error==0:\n",
    "    print(\"Done.\")"
   ]
  },
  {
   "cell_type": "markdown",
   "id": "83f0eedc",
   "metadata": {},
   "source": [
    "The code for controlling the system would be something like the following code if you do it with **a custom controller**.\n",
    "You have first two functions which run the control over the system and, after that, you can find a code in which you can change the values of the parameters of the controller. \n",
    "\n",
    "If your microfluidic circuit is not very hydraulically resistive, you may need to add some flow resistance to it in order to make use of the whole ranges of your flow sensor and pressure regulators. \n",
    "\n",
    "Remember that each microfluidic system needs a different PI Controller tuning, thus, the results you will have may be different to the ones obtained with my testing setup. Try the proposed parameters values or change those values if you are confident, but avoid to make huge changes on the parameters at a time to maintain the system within safety limits."
   ]
  },
  {
   "cell_type": "code",
   "execution_count": 2,
   "id": "9f929de7",
   "metadata": {},
   "outputs": [],
   "source": [
    "period = 0.1 # 10Hz\n",
    "p_error = 0\n",
    "i_error = 0\n",
    "meas_flow = c_double()\n",
    "\n",
    "def pid_run():\n",
    "    global p_error\n",
    "    global i_error\n",
    "    start_t = time.time() # <- This must be close to the routine\n",
    "    last_t = start_t\n",
    "    # Main routine\n",
    "    while True:\n",
    "        # Get the current output\n",
    "        error=OB1_Get_Sens_Data(Instr_ID.value, fs_channel, 1, byref(meas_flow))\n",
    "        flow_list.append(meas_flow.value)\n",
    "\n",
    "        # Calculate the mathematical error\n",
    "        p_error = ref_flow - meas_flow.value\n",
    "        i_error += p_error\n",
    "        # PI Controller equations\n",
    "        P_val = K_p * p_error\n",
    "        I_val = K_i * i_error\n",
    "        # Anti-windup\n",
    "        I_val = max(I_min, min(I_max, I_val))\n",
    "        # Final control action\n",
    "        p_control = P_val + I_val\n",
    "        p_control = max(p_min, min(p_max, p_control)) # Safety saturation\n",
    "\n",
    "        error_list.append(p_error)\n",
    "        control_list.append(p_control)\n",
    "\n",
    "        p_control=c_double( float(p_control) ) # Convert to c_double\n",
    "        error=OB1_Set_Press(Instr_ID.value, p_channel, p_control, byref(Calib), 1000) # Return error message\n",
    "\n",
    "        # Check if the elapsed time match the time limit\n",
    "        if (time.time() - start_t) > experiment_t:\n",
    "            break\n",
    "        # Wait until desired period time\n",
    "        sleep_t = period - (time.time() - last_t)\n",
    "        if sleep_t > 0:\n",
    "            time.sleep( sleep_t )\n",
    "        last_t = time.time() # And update the last time\n",
    "\n",
    "    # Turn off the pressure\n",
    "    p_control = 0.0\n",
    "    error=OB1_Set_Press(Instr_ID.value, p_channel, p_control, byref(Calib), 1000) # Return error message\n",
    "\n",
    "    \n",
    "def plot():\n",
    "    # Plot the signals\n",
    "    plt.rcParams['axes.grid'] = True\n",
    "    fig=plt.figure()\n",
    "    fig.suptitle(\"Microfluidic Circuit Control at {0:.2f}Hz\".format(1/period))\n",
    "\n",
    "    plt.subplot(2,1,1)\n",
    "    plt.plot( flow_list )\n",
    "    plt.ylabel('flow [uL/min]')\n",
    "    plt.subplot(2,1,2)\n",
    "    plt.plot( control_list )\n",
    "    plt.ylabel('pressure [mbar]')\n",
    "\n",
    "    \n",
    "def run():\n",
    "    pid_run()\n",
    "    plot()"
   ]
  },
  {
   "cell_type": "markdown",
   "id": "0e2516f8",
   "metadata": {},
   "source": [
    "### 2.2.3 Parameters tuning\n",
    "\n",
    "Change the following values to tune the controller for your system. You can also change the reference value and the experiment execution time by some values more useful for your application. If the system follows your reference too slowly, you may increase the proportional and/or the integrative gain. If it is too aggressive, the contrary. Feel free to play with them by changing the values in small steps.\n",
    "\n",
    "Also check that the control maximum and minimum values are good for your system."
   ]
  },
  {
   "cell_type": "code",
   "execution_count": 3,
   "id": "43a777e0",
   "metadata": {},
   "outputs": [
    {
     "data": {
      "image/png": "[encoded data removed]",
      "text/plain": [
       "<Figure size 432x288 with 2 Axes>"
      ]
     },
     "metadata": {
      "needs_background": "light"
     },
     "output_type": "display_data"
    }
   ],
   "source": [
    "# Controller parameters: Very soft controller\n",
    "K_p = 0.05 # <- Change this value to tune the controller\n",
    "K_i = 0.1 # <- Change this value too to tune the controller\n",
    "ref_flow = 60 # uL/min\n",
    "\n",
    "p_min = 0 # <- This is only negative if you have some vacuum source\n",
    "p_max = 1000 # <- This depends on the Z regulator of each channel\n",
    "\n",
    "# OB1 arrangement\n",
    "p_channel = 2 # <- Change this to\n",
    "fs_channel = 2 # <- your real configuration\n",
    "\n",
    "experiment_t = 10.0 # Seconds\n",
    "flow_list = []\n",
    "error_list = []\n",
    "control_list = []\n",
    "\n",
    "run()"
   ]
  },
  {
   "cell_type": "markdown",
   "id": "92f6df62",
   "metadata": {},
   "source": [
    "### 2.2.1 SDK remote PID control\n",
    "If you have previously configured any of the compatible instruments (OB1, AF1, MSRD, BFS) in remote mode, where the acquisition is run autonomously, the Elvesys SDK allows you to start or stop PID loops between these instruments without having to write the code of the loop itself. A fully working flow regulation can be started with an OB1 and an MFS with a single function call. Subsequent modification of the PID target is achieved in the remote loop of the device controlling the pressure/flow. A PID loop can be started on a single remote loop if the device can regulate the pressure/flow and a sensor is also connected to it.\n",
    "\n",
    "The following is a summary of the necessary functions to run the remote PID controller:\n",
    "\n",
    "| Function | Description |\n",
    "| --- | --- |\n",
    "| PID_Add_Remote() | Create a PID controller associated to some pressure output. |\n",
    "| OB1_Start_Remote_Measurement() | Start the remote mode of the instrument. |\n",
    "| OB1_Stop_Remote_Measurement() | Stop the remote mode of the instrument. |\n",
    "| OB1_Get_Remote_Data() | Returns the last measure from a instrument on remote mode. |\n",
    "| OB1_Set_Remote_Target() | Set a new control reference to a controlled pressure output. |\n",
    "\n",
    "If you correctly tuned the controller in the previous step of this chapter, you should now have a set of parameters which is suitable for your current system. You can set those values in the next code cell to run the remote PI controller with them. Anyway, notice that the sampling frequency of the remote PID control is higher than the achievable with custom external code; thus, you may need to reduce the value of your gains.\n",
    "\n",
    "\n",
    "**Note.** If you need to check the usage of one function from our SDK, you can find the API reference at the SDK User Guide at any moment.\n"
   ]
  },
  {
   "cell_type": "code",
   "execution_count": 4,
   "id": "abc3e7e1",
   "metadata": {},
   "outputs": [
    {
     "name": "stdout",
     "output_type": "stream",
     "text": [
      "Stop. Error value: 1\n"
     ]
    },
    {
     "data": {
      "text/plain": [
       "Text(0, 0.5, 'pressure [mbar]')"
      ]
     },
     "execution_count": 4,
     "metadata": {},
     "output_type": "execute_result"
    },
    {
     "data": {
      "image/png": "[encoded data removed]",
      "text/plain": [
       "<Figure size 432x288 with 2 Axes>"
      ]
     },
     "metadata": {
      "needs_background": "light"
     },
     "output_type": "display_data"
    }
   ],
   "source": [
    "# Controller parameters: Very soft controller\n",
    "K_p = 0.05 # <- Change this value to tune the controller\n",
    "K_i = 0.003 # <- Change this value too to tune the controller\n",
    "ref_flow = 50 # uL/min\n",
    "\n",
    "experiment_t = 5.0\n",
    "\n",
    "# OB1 arrangement\n",
    "p_channel = 2 # <- Change this to\n",
    "fs_channel = 2 # <- your real configuration\n",
    "\n",
    "# Start running the PI Control on remote mode\n",
    "error = OB1_Start_Remote_Measurement(Instr_ID.value, byref(Calib), 1000)\n",
    "# Start the PID Controller onsite\n",
    "p_channel = c_int32( int(p_channel) ) # convert to c_int32\n",
    "fs_channel = c_int32( int(fs_channel) ) # convert to c_int32\n",
    "error = PID_Add_Remote(Instr_ID.value, p_channel, Instr_ID.value, fs_channel, K_p, K_i, 1) \n",
    "# Set the reference\n",
    "ref_flow = c_double( float(ref_flow) )\n",
    "error = OB1_Set_Remote_Target(Instr_ID.value, p_channel, ref_flow) \n",
    "\n",
    "flow_list = []\n",
    "control_list = []\n",
    "meas_flow = c_double()\n",
    "control_val = c_double()\n",
    "\n",
    "start_t = time.time() # <- This must be close to the routine\n",
    "last_t = start_t\n",
    "while True:\n",
    "    error = OB1_Get_Remote_Data(Instr_ID.value, fs_channel, byref(control_val), byref(meas_flow))\n",
    "    flow_list.append( meas_flow.value )\n",
    "    control_list.append( control_val.value )\n",
    "\n",
    "    # Check if the elapsed time match the time limit\n",
    "    if (time.time() - start_t) > experiment_t:\n",
    "        break\n",
    "    # Wait until desired period time\n",
    "    sleep_t = period - (time.time() - last_t)\n",
    "    if sleep_t > 0:\n",
    "        time.sleep( sleep_t )\n",
    "    last_t = time.time() # And update the last time\n",
    "\n",
    "error = OB1_Stop_Remote_Measurement(Instr_ID.value)\n",
    "print('Stop. Error value: %d' % error)\n",
    "\n",
    "# Plot the signals\n",
    "plt.rcParams['axes.grid'] = True\n",
    "fig=plt.figure()\n",
    "fig.suptitle(\"Remote PID Control\")\n",
    "\n",
    "plt.subplot(2,1,1)\n",
    "plt.plot( flow_list )\n",
    "plt.ylabel('flow [uL/min]')\n",
    "plt.subplot(2,1,2)\n",
    "plt.plot( control_list )\n",
    "plt.ylabel('pressure [mbar]')"
   ]
  },
  {
   "cell_type": "markdown",
   "id": "19f2c146",
   "metadata": {},
   "source": [
    "## 2.3 Conclusions\n",
    "In this tutorial we have seen how a simple PI Control works, how can it be implemented with the OB1 instrument, how to tune its parameters and, finally, how to use the remote PID controller.\n",
    "\n",
    "As we saw, it is not difficult to implement a custom controller for the OB1 instrument using Python. However, the problem gets more difficult when you must perform more tasks while running the controller or if you must control several instruments at once. For those situations, it turns out way easier to use the remote PID controllers due to the fact that, once configured and launched, you only must change the reference or gather data from it whenever you need it.\n",
    "\n",
    "Although in this tutorial the PI controllers have been tuned using the Python code, you can also use the ESI for that purpose if it is more comfortable for you as the values must be the same. But if you are going to use a custom controller, remember to check that the sampling frequency matches the one of the control you used for the tuning.\n",
    "\n",
    "Finally, if you want to keep learning about microfluidics and related topics, you can also check our [application notes](https://www.elveflow.com/microfluidic-application-notes/) (free tutorials) or [reviews](https://www.elveflow.com/microfluidic-reviews/).\n",
    "\n",
    "Hope you found this tutorial useful, and thanks for trusting Elvesys!"
   ]
  },
  {
   "cell_type": "code",
   "execution_count": null,
   "id": "edda837b",
   "metadata": {},
   "outputs": [],
   "source": []
  }
 ],
 "metadata": {
  "kernelspec": {
   "display_name": "Python 3 (ipykernel)",
   "language": "python",
   "name": "python3"
  },
  "language_info": {
   "codemirror_mode": {
    "name": "ipython",
    "version": 3
   },
   "file_extension": ".py",
   "mimetype": "text/x-python",
   "name": "python",
   "nbconvert_exporter": "python",
   "pygments_lexer": "ipython3",
   "version": "3.10.0"
  },
  "vscode": {
   "interpreter": {
    "hash": "6a2c7044fdf49af6baf7003b50f0a05eccc850dd98edb6e4c558b9f8f263024f"
   }
  }
 },
 "nbformat": 4,
 "nbformat_minor": 5
}
